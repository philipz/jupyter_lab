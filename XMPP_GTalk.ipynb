{
 "cells": [
  {
   "cell_type": "markdown",
   "metadata": {},
   "source": [
    "[SleekXMPP Sign in, Send a Message, and Disconnect](http://sleekxmpp.com/getting_started/sendlogout.html)\n",
    "\n",
    "[SleekXMPP Github](https://github.com/fritzy/SleekXMPP)"
   ]
  },
  {
   "cell_type": "code",
   "execution_count": 2,
   "metadata": {
    "collapsed": true
   },
   "outputs": [],
   "source": [
    "import sys\n",
    "import sleekxmpp\n",
    "\n",
    "# Python versions before 3.0 do not use UTF-8 encoding\n",
    "# by default. To ensure that Unicode is handled properly\n",
    "# throughout SleekXMPP, we will set the default encoding\n",
    "# ourselves to UTF-8.\n",
    "if sys.version_info < (3, 0):\n",
    "    reload(sys)\n",
    "    sys.setdefaultencoding('utf8')\n",
    "else:\n",
    "    raw_input = input"
   ]
  },
  {
   "cell_type": "code",
   "execution_count": 3,
   "metadata": {
    "collapsed": true
   },
   "outputs": [],
   "source": [
    "class SendMsgBot(sleekxmpp.ClientXMPP):\n",
    "\n",
    "    \"\"\"\n",
    "    A basic SleekXMPP bot that will log in, send a message,\n",
    "    and then log out.\n",
    "    \"\"\"\n",
    "\n",
    "    def __init__(self, jid, password, recipient, message):\n",
    "        sleekxmpp.ClientXMPP.__init__(self, jid, password)\n",
    "\n",
    "        # The message we wish to send, and the JID that\n",
    "        # will receive it.\n",
    "        self.recipient = recipient\n",
    "        self.msg = message\n",
    "\n",
    "        # The session_start event will be triggered when\n",
    "        # the bot establishes its connection with the server\n",
    "        # and the XML streams are ready for use. We want to\n",
    "        # listen for this event so that we we can initialize\n",
    "        # our roster.\n",
    "        self.add_event_handler(\"session_start\", self.start)\n",
    "\n",
    "    def start(self, event):\n",
    "        \"\"\"\n",
    "        Process the session_start event.\n",
    "\n",
    "        Typical actions for the session_start event are\n",
    "        requesting the roster and broadcasting an initial\n",
    "        presence stanza.\n",
    "\n",
    "        Arguments:\n",
    "            event -- An empty dictionary. The session_start\n",
    "                     event does not provide any additional\n",
    "                     data.\n",
    "        \"\"\"\n",
    "        self.send_presence()\n",
    "        self.get_roster()\n",
    "\n",
    "        self.send_message(mto=self.recipient,\n",
    "                          mbody=self.msg,\n",
    "                          mtype='chat')\n",
    "\n",
    "        # Using wait=True ensures that the send queue will be\n",
    "        # emptied before ending the session.\n",
    "        self.disconnect(wait=True)"
   ]
  },
  {
   "cell_type": "code",
   "execution_count": 5,
   "metadata": {
    "collapsed": false
   },
   "outputs": [],
   "source": [
    "if __name__ == '__main__':\n",
    "    # Setup the EchoBot and register plugins. Note that while plugins may\n",
    "    # have interdependencies, the order in which you register them does\n",
    "    # not matter.\n",
    "    xmpp = SendMsgBot(\"futuresbot@gmail.com\", \"XXXXXX\", \"philipzheng@gmail.com\", \"Jupyter Test!!!\")\n",
    "    xmpp.register_plugin('xep_0030') # Service Discovery\n",
    "    xmpp.register_plugin('xep_0199') # XMPP Ping\n",
    "\n",
    "    # If you are working with an OpenFire server, you may need\n",
    "    # to adjust the SSL version used:\n",
    "    # xmpp.ssl_version = ssl.PROTOCOL_SSLv3\n",
    "\n",
    "    # If you want to verify the SSL certificates offered by a server:\n",
    "    # xmpp.ca_certs = \"path/to/ca/cert\"\n",
    "\n",
    "    # Connect to the XMPP server and start processing XMPP stanzas.\n",
    "    if xmpp.connect(('talk.google.com', 5222)):\n",
    "        # If you do not have the dnspython library installed, you will need\n",
    "        # to manually specify the name of the server if it does not match\n",
    "        # the one in the JID. For example, to use Google Talk you would\n",
    "        # need to use:\n",
    "        #\n",
    "        #     ...\n",
    "        xmpp.process(block=True)\n",
    "        print(\"Done\")\n",
    "    else:\n",
    "        print(\"Unable to connect.\")"
   ]
  }
 ],
 "metadata": {
  "kernelspec": {
   "display_name": "Python 2",
   "language": "python",
   "name": "python2"
  },
  "language_info": {
   "codemirror_mode": {
    "name": "ipython",
    "version": 2
   },
   "file_extension": ".py",
   "mimetype": "text/x-python",
   "name": "python",
   "nbconvert_exporter": "python",
   "pygments_lexer": "ipython2",
   "version": "2.7.6"
  }
 },
 "nbformat": 4,
 "nbformat_minor": 0
}
